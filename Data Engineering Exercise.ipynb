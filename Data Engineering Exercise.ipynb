{
 "cells": [
  {
   "cell_type": "code",
   "execution_count": 104,
   "id": "a04ac218-8ded-46b7-9583-fe42558270ec",
   "metadata": {},
   "outputs": [],
   "source": [
    "import pandas as pd"
   ]
  },
  {
   "cell_type": "code",
   "execution_count": 105,
   "id": "47cd62ea-f30b-47a3-87de-ca003bde7010",
   "metadata": {},
   "outputs": [],
   "source": [
    "cons_info = pd.read_csv(\"https://als-hiring.s3.amazonaws.com/fake_data/2020-07-01_17%3A11%3A00/cons.csv\")\n",
    "cons_email = pd.read_csv(\"https://als-hiring.s3.amazonaws.com/fake_data/2020-07-01_17%3A11%3A00/cons_email.csv\")\n",
    "cons_status = pd.read_csv(\"https://als-hiring.s3.amazonaws.com/fake_data/2020-07-01_17%3A11%3A00/cons_email_chapter_subscription.csv\")\n",
    "cons_status = cons_status[cons_status[\"chapter_id\"]==1]"
   ]
  },
  {
   "cell_type": "code",
   "execution_count": 106,
   "id": "d87aa622-6f34-4f99-ba83-0f1342397049",
   "metadata": {},
   "outputs": [],
   "source": [
    "merged1 = pd.merge(cons_email, cons_status, on=\"cons_email_id\", how=\"inner\")\n",
    "merged2 = pd.merge(merged1, cons_info, on=\"cons_id\", how=\"inner\")"
   ]
  },
  {
   "cell_type": "code",
   "execution_count": 107,
   "id": "91d78d72-e978-466a-8b43-05befc005723",
   "metadata": {},
   "outputs": [],
   "source": [
    "people = merged2[[\"email\", \"source\", \"isunsub\", \"create_dt_x\", \"modified_dt_x\"]]\n",
    "people = people.rename(columns={\"source\":\"code\", \"isunsub\":\"is_unsub\", \"create_dt_x\":\"created_dt\", \"modified_dt_x\":\"updated_dt\"})\n",
    "people = people.astype({\"email\":str, \"code\":str})\n",
    "people[\"created_dt\"] = pd.to_datetime(people[\"created_dt\"])\n",
    "people[\"updated_dt\"] = pd.to_datetime(people[\"updated_dt\"])\n",
    "people.is_unsub.replace({1:True, 0:False}, inplace=True)\n",
    "people.to_csv(\"people.csv\")"
   ]
  },
  {
   "cell_type": "code",
   "execution_count": 108,
   "id": "24333797-c74f-40ad-9f0e-7c34805cdb1c",
   "metadata": {},
   "outputs": [],
   "source": [
    "date_grouped = people.groupby(pd.Grouper(key=\"created_dt\", axis=0, freq=\"1D\", sort=True)).sum()\n",
    "acquisition_facts = pd.DataFrame(date_grouped)\n",
    "acquisition_facts = acquisition_facts.reset_index()\n",
    "acquisition_facts = acquisition_facts.rename(columns={\"created_dt\":\"acquisition_date\",\"is_unsub\":\"acquisitions\"})\n",
    "acquisition_facts[\"acquisition_date\"] = pd.to_datetime(acquisition_facts[\"acquisition_date\"]).dt.date\n",
    "acquisition_facts.to_csv(\"acquisition_facts.csv\")"
   ]
  }
 ],
 "metadata": {
  "kernelspec": {
   "display_name": "Python 3",
   "language": "python",
   "name": "python3"
  },
  "language_info": {
   "codemirror_mode": {
    "name": "ipython",
    "version": 3
   },
   "file_extension": ".py",
   "mimetype": "text/x-python",
   "name": "python",
   "nbconvert_exporter": "python",
   "pygments_lexer": "ipython3",
   "version": "3.8.8"
  }
 },
 "nbformat": 4,
 "nbformat_minor": 5
}
