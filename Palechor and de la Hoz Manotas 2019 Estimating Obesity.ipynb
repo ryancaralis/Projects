{
 "cells": [
  {
   "cell_type": "code",
   "execution_count": 72,
   "metadata": {},
   "outputs": [],
   "source": [
    "import pandas as pd\n",
    "import numpy as np\n",
    "from sklearn import tree\n",
    "import statsmodels.api as sm\n",
    "import sklearn.metrics as metrics\n",
    "from sklearn.model_selection import train_test_split\n",
    "from sklearn.model_selection import KFold\n",
    "from sklearn.model_selection import GridSearchCV\n",
    "from sklearn.model_selection import validation_curve\n",
    "from sklearn.naive_bayes import GaussianNB\n",
    "from sklearn.linear_model import LogisticRegression\n",
    "from sklearn import preprocessing"
   ]
  },
  {
   "cell_type": "code",
   "execution_count": 44,
   "metadata": {},
   "outputs": [],
   "source": [
    "df = pd.read_csv('/Users/ryanc/Desktop/ObesityDataSet_raw_and_data_sinthetic.csv')\n",
    "weight_scale = {'Insufficient_Weight':0, 'Normal_Weight':1, 'Overweight_Level_I':2, 'Overweight_Level_II':3, 'Obesity_Type_I':4, 'Obesity_Type_II':5, 'Obesity_Type_III':6 }\n",
    "likert_scale = {'no':0, 'Sometimes':1, 'Frequently':2, 'Always':3}\n",
    "dummies = ['Gender', 'family_history_with_overweight', 'FAVC', 'SMOKE', 'SCC', 'MTRANS']\n",
    "df['NObeyesdad'] = df['NObeyesdad'].replace(weight_scale)\n",
    "df['CAEC'] = df['CAEC'].replace(likert_scale)\n",
    "df['CALC'] = df['CALC'].replace(likert_scale)\n",
    "df = df.join(pd.get_dummies(df[dummies]))\n",
    "df.drop(dummies, axis = 1, inplace = True)\n",
    "target = df.iloc[:,10].copy()\n",
    "df.drop('NObeyesdad', axis = 1, inplace = True)"
   ]
  },
  {
   "cell_type": "code",
   "execution_count": 45,
   "metadata": {},
   "outputs": [],
   "source": [
    "dt = tree.DecisionTreeClassifier()\n",
    "gnb = GaussianNB()\n",
    "lr = LogisticRegression(multi_class = 'multinomial', solver = 'newton-cg')\n",
    "kf = KFold(n_splits = 10, shuffle = True, random_state = 0)\n",
    "lab_enc = preprocessing.LabelEncoder()"
   ]
  },
  {
   "cell_type": "code",
   "execution_count": 46,
   "metadata": {},
   "outputs": [],
   "source": [
    "def classification_results(y_true, y_pred, model):\n",
    "\n",
    "    \n",
    "    precision = metrics.precision_score(y_true, y_pred, average = 'micro')\n",
    "    recall = metrics.recall_score(y_true, y_pred, average = 'micro')\n",
    "\n",
    "    print('precision score: ', precision)\n",
    "    print('recall score: ', recall)"
   ]
  },
  {
   "cell_type": "code",
   "execution_count": 88,
   "metadata": {},
   "outputs": [
    {
     "name": "stdout",
     "output_type": "stream",
     "text": [
      "Decision Tree\n",
      "precision score:  0.9321766561514195\n",
      "recall score:  0.9321766561514195\n"
     ]
    }
   ],
   "source": [
    "X_train, X_test, y_train, y_test = train_test_split(df, target, test_size = .3, random_state = 0)\n",
    "parameters = {'max_leaf_nodes': list(range(2, 100)), 'min_samples_split': list(range(2, 5))}\n",
    "grid = GridSearchCV(dt, parameters, cv = kf, scoring = 'precision_micro')\n",
    "grid.fit(X_train, y_train)\n",
    "model = grid.best_estimator_\n",
    "y_pred = model.predict(X_test)\n",
    "y_true = y_test\n",
    "print('Decision Tree')\n",
    "classification_results(y_true, y_pred, 'dt')"
   ]
  },
  {
   "cell_type": "code",
   "execution_count": 87,
   "metadata": {},
   "outputs": [
    {
     "name": "stdout",
     "output_type": "stream",
     "text": [
      "Decision Tree\n",
      "precision score:  0.9321766561514195\n",
      "recall score:  0.9321766561514195\n"
     ]
    }
   ],
   "source": [
    "X_train, X_test, y_train, y_test = train_test_split(df, target, test_size = .3, random_state = 0)\n",
    "parameters = {'max_leaf_nodes': list(range(2, 100)), 'min_samples_split': list(range(2, 5))}\n",
    "grid = GridSearchCV(dt, parameters, cv = kf, scoring = 'recall_micro')\n",
    "grid.fit(X_train, y_train)\n",
    "model = grid.best_estimator_\n",
    "y_pred = model.predict(X_test)\n",
    "y_true = y_test\n",
    "print('Decision Tree')\n",
    "classification_results(y_true, y_pred, 'dt')"
   ]
  },
  {
   "cell_type": "code",
   "execution_count": 54,
   "metadata": {},
   "outputs": [
    {
     "name": "stdout",
     "output_type": "stream",
     "text": [
      "Naive Bayes\n",
      "precision score:  0.6845425867507886\n",
      "recall score:  0.6845425867507886\n"
     ]
    }
   ],
   "source": [
    "X_train, X_test, y_train, y_test = train_test_split(df, target, test_size = .3, random_state = 0)\n",
    "parameters = {'var_smoothing': np.logspace(0, -9, num=20)}\n",
    "grid = GridSearchCV(gnb, parameters, cv = kf, scoring = 'recall_micro')\n",
    "grid.fit(X_train, y_train)\n",
    "model = grid.best_estimator_\n",
    "y_pred = model.predict(X_test)\n",
    "y_true = y_test\n",
    "print('Naive Bayes')\n",
    "classification_results(y_true, y_pred, 'gnb')"
   ]
  },
  {
   "cell_type": "code",
   "execution_count": 50,
   "metadata": {},
   "outputs": [
    {
     "name": "stdout",
     "output_type": "stream",
     "text": [
      "Naive Bayes\n",
      "precision score:  0.6845425867507886\n",
      "recall score:  0.6845425867507886\n"
     ]
    }
   ],
   "source": [
    "X_train, X_test, y_train, y_test = train_test_split(df, target, test_size = .3, random_state = 0)\n",
    "parameters = {'var_smoothing': np.logspace(0, -9, num=20)}\n",
    "grid = GridSearchCV(gnb, parameters, cv = kf, scoring = 'precision_micro')\n",
    "grid.fit(X_train, y_train)\n",
    "model = grid.best_estimator_\n",
    "y_pred = model.predict(X_test)\n",
    "y_true = y_test\n",
    "print('Naive Bayes')\n",
    "classification_results(y_true, y_pred, 'gnb')"
   ]
  },
  {
   "cell_type": "code",
   "execution_count": 51,
   "metadata": {},
   "outputs": [
    {
     "name": "stdout",
     "output_type": "stream",
     "text": [
      "Logistic Regression\n",
      "precision score:  0.9479495268138801\n",
      "recall score:  0.9479495268138801\n"
     ]
    }
   ],
   "source": [
    "X_train, X_test, y_train, y_test = train_test_split(df, target, test_size = .3, random_state = 0)\n",
    "parameters = {'C': [0.001, 0.01, 0.1, 1, 10, 100]}\n",
    "grid = GridSearchCV(lr, parameters, cv = kf, scoring = 'precision_micro')\n",
    "X_train = preprocessing.scale(X_train)\n",
    "X_test = preprocessing.scale(X_test)\n",
    "y_train = preprocessing.scale(y_train)\n",
    "y_test = preprocessing.scale(y_test)\n",
    "y_train = lab_enc.fit_transform(y_train)\n",
    "y_test = lab_enc.fit_transform(y_test)\n",
    "grid.fit(X_train, y_train)\n",
    "model = grid.best_estimator_\n",
    "y_pred = model.predict(X_test)\n",
    "y_true = y_test\n",
    "print('Logistic Regression')\n",
    "classification_results(y_true, y_pred, 'lr')"
   ]
  },
  {
   "cell_type": "code",
   "execution_count": 52,
   "metadata": {},
   "outputs": [
    {
     "name": "stdout",
     "output_type": "stream",
     "text": [
      "Logistic Regression\n",
      "precision score:  0.9479495268138801\n",
      "recall score:  0.9479495268138801\n"
     ]
    }
   ],
   "source": [
    "X_train, X_test, y_train, y_test = train_test_split(df, target, test_size = .3, random_state = 0)\n",
    "parameters = {'C': [0.001, 0.01, 0.1, 1, 10, 100]}\n",
    "grid = GridSearchCV(lr, parameters, cv = kf, scoring = 'recall_micro')\n",
    "X_train = preprocessing.scale(X_train)\n",
    "X_test = preprocessing.scale(X_test)\n",
    "y_train = preprocessing.scale(y_train)\n",
    "y_test = preprocessing.scale(y_test)\n",
    "y_train = lab_enc.fit_transform(y_train)\n",
    "y_test = lab_enc.fit_transform(y_test)\n",
    "grid.fit(X_train, y_train)\n",
    "model = grid.best_estimator_\n",
    "y_pred = model.predict(X_test)\n",
    "y_true = y_test\n",
    "print('Logistic Regression')\n",
    "classification_results(y_true, y_pred, 'lr')"
   ]
  },
  {
   "cell_type": "code",
   "execution_count": null,
   "metadata": {},
   "outputs": [],
   "source": []
  }
 ],
 "metadata": {
  "kernelspec": {
   "display_name": "Python 3",
   "language": "python",
   "name": "python3"
  },
  "language_info": {
   "codemirror_mode": {
    "name": "ipython",
    "version": 3
   },
   "file_extension": ".py",
   "mimetype": "text/x-python",
   "name": "python",
   "nbconvert_exporter": "python",
   "pygments_lexer": "ipython3",
   "version": "3.7.6"
  }
 },
 "nbformat": 4,
 "nbformat_minor": 4
}
